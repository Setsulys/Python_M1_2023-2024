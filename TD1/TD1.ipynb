{
 "cells": [
  {
   "cell_type": "code",
   "execution_count": 150,
   "id": "alpha-commodity",
   "metadata": {},
   "outputs": [],
   "source": [
    "import itertools"
   ]
  },
  {
   "cell_type": "markdown",
   "id": "covered-cinema",
   "metadata": {},
   "source": [
    "### Exercice 1"
   ]
  },
  {
   "cell_type": "code",
   "execution_count": 151,
   "id": "varying-district",
   "metadata": {},
   "outputs": [],
   "source": [
    "def encadrement(strs):\n",
    "    if(len(strs)>75):\n",
    "        raise exception(\"Too much caracters\")\n",
    "    nb = len(strs)+2\n",
    "    line = \"\".join(nb*[\"*\"])\n",
    "    return line + \"\\n*\"+strs+\"*\\n\"+line\n",
    "    "
   ]
  },
  {
   "cell_type": "code",
   "execution_count": 152,
   "id": "signal-complexity",
   "metadata": {},
   "outputs": [
    {
     "name": "stdout",
     "output_type": "stream",
     "text": [
      "***********\n",
      "*coin coin*\n",
      "***********\n"
     ]
    }
   ],
   "source": [
    "print(encadrement(\"coin coin\"))"
   ]
  },
  {
   "cell_type": "markdown",
   "id": "quarterly-shoot",
   "metadata": {},
   "source": [
    "### Exercice 2"
   ]
  },
  {
   "cell_type": "code",
   "execution_count": 153,
   "id": "threatened-shoulder",
   "metadata": {},
   "outputs": [],
   "source": [
    "def encadrement2(strs):\n",
    "    if(len(strs)>79):\n",
    "        raise exception(\"Too much caracters\")\n",
    "    nb = len(strs)\n",
    "    half=79//2\n",
    "    halfstr = nb//2 \n",
    "    line = \"\".join(79*[\"*\"])\n",
    "    if(nb%2 == 0):\n",
    "        return line + \"\\n*\"+\" \"*(half-halfstr)+strs+\" \"*(half-halfstr-1)+\"*\\n\"+line\n",
    "    else:\n",
    "        return line + \"\\n*\"+\" \"*(half-halfstr)+strs+\" \"*(half-halfstr-2)+\"*\\n\"+line\n",
    "    "
   ]
  },
  {
   "cell_type": "code",
   "execution_count": 252,
   "id": "unlimited-editing",
   "metadata": {},
   "outputs": [
    {
     "name": "stdout",
     "output_type": "stream",
     "text": [
      "*******************************************************************************\n",
      "*                                   coin coin                                 *\n",
      "*******************************************************************************\n"
     ]
    }
   ],
   "source": [
    "print(encadrement2(\"coin coin\"))"
   ]
  },
  {
   "cell_type": "markdown",
   "id": "iraqi-brother",
   "metadata": {},
   "source": [
    "### Exercice 3"
   ]
  },
  {
   "cell_type": "code",
   "execution_count": 155,
   "id": "loose-reviewer",
   "metadata": {},
   "outputs": [],
   "source": [
    "def decadre(strs):\n",
    "    return strs.strip('*\\n')"
   ]
  },
  {
   "cell_type": "code",
   "execution_count": 156,
   "id": "charming-outdoors",
   "metadata": {},
   "outputs": [
    {
     "name": "stdout",
     "output_type": "stream",
     "text": [
      "coin coin\n"
     ]
    }
   ],
   "source": [
    "print(decadre(encadrement(\"coin coin\")))"
   ]
  },
  {
   "cell_type": "markdown",
   "id": "conditional-efficiency",
   "metadata": {},
   "source": [
    "### Exercice 4"
   ]
  },
  {
   "cell_type": "code",
   "execution_count": 294,
   "id": "baking-league",
   "metadata": {},
   "outputs": [],
   "source": [
    "def tricot(lst1,lst2):\n",
    "    lstf =[]\n",
    "    for i,j in list(zip(lst1,lst2)):\n",
    "        lstf.append(i)\n",
    "        lstf.append(j)\n",
    "    end = lst1[len(lst2):]+lst2[len(lst1):]\n",
    "    lstf.extend(end)\n",
    "    return \"\".join(lstf)"
   ]
  },
  {
   "cell_type": "code",
   "execution_count": 295,
   "id": "unlikely-housing",
   "metadata": {},
   "outputs": [
    {
     "name": "stdout",
     "output_type": "stream",
     "text": [
      "a0b1c2d3e4f56789\n"
     ]
    }
   ],
   "source": [
    "print(tricot(\"abcdef\",\"0123456789\"))"
   ]
  },
  {
   "cell_type": "markdown",
   "id": "first-residence",
   "metadata": {},
   "source": [
    "### Exercice 5"
   ]
  },
  {
   "cell_type": "code",
   "execution_count": 242,
   "id": "sticky-aluminum",
   "metadata": {},
   "outputs": [],
   "source": [
    "def detricot(lst):\n",
    "    return lst[::2],lst[1::2]"
   ]
  },
  {
   "cell_type": "code",
   "execution_count": 243,
   "id": "dressed-harmony",
   "metadata": {},
   "outputs": [
    {
     "name": "stdout",
     "output_type": "stream",
     "text": [
      "('abcdef68', '01234579')\n"
     ]
    }
   ],
   "source": [
    "print(detricot(tricot(\"abcdef\",\"0123456789\")))"
   ]
  },
  {
   "cell_type": "markdown",
   "id": "baking-proxy",
   "metadata": {},
   "source": [
    "### Exercice 6"
   ]
  },
  {
   "cell_type": "code",
   "execution_count": 240,
   "id": "incorporated-promise",
   "metadata": {},
   "outputs": [],
   "source": [
    "daltons=[{\"nom\":\"joe\",\"taille\":140,\"caractere\":\"teigneux\"},\n",
    "\n",
    "{\"nom\":\"jack\",\"taille\":155,\"caractere\":\"idiot\"},\n",
    "{\"nom\":\"william\",\"taille\":170,\"caractere\":\"stupide\"},\n",
    "{\"nom\":\"averell\",\"taille\":185,\"caractere\":\"abruti\"}]"
   ]
  },
  {
   "cell_type": "code",
   "execution_count": 241,
   "id": "regulated-differential",
   "metadata": {},
   "outputs": [
    {
     "name": "stdout",
     "output_type": "stream",
     "text": [
      "[{'nom': 'joe', 'taille': 140, 'caractere': 'teigneux'}, {'nom': 'jack', 'taille': 155, 'caractere': 'idiot'}, {'nom': 'william', 'taille': 170, 'caractere': 'stupide'}, {'nom': 'averell', 'taille': 185, 'caractere': 'abruti'}]\n",
      "[{'nom': 'averell', 'taille': 185, 'caractere': 'abruti'}, {'nom': 'jack', 'taille': 155, 'caractere': 'idiot'}, {'nom': 'joe', 'taille': 140, 'caractere': 'teigneux'}, {'nom': 'william', 'taille': 170, 'caractere': 'stupide'}]\n",
      "[{'nom': 'joe', 'taille': 140, 'caractere': 'teigneux'}, {'nom': 'jack', 'taille': 155, 'caractere': 'idiot'}, {'nom': 'william', 'taille': 170, 'caractere': 'stupide'}, {'nom': 'averell', 'taille': 185, 'caractere': 'abruti'}]\n"
     ]
    }
   ],
   "source": [
    "print (daltons)\n",
    "daltons.sort(key=lambda x:x['nom'])\n",
    "print (daltons)\n",
    "daltons.sort(key=lambda x:x['taille'])\n",
    "print (daltons)"
   ]
  }
 ],
 "metadata": {
  "kernelspec": {
   "display_name": "Python 3",
   "language": "python",
   "name": "python3"
  },
  "language_info": {
   "codemirror_mode": {
    "name": "ipython",
    "version": 3
   },
   "file_extension": ".py",
   "mimetype": "text/x-python",
   "name": "python",
   "nbconvert_exporter": "python",
   "pygments_lexer": "ipython3",
   "version": "3.9.2"
  }
 },
 "nbformat": 4,
 "nbformat_minor": 5
}
