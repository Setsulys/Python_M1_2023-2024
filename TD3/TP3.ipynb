{
 "cells": [
  {
   "cell_type": "code",
   "execution_count": 59,
   "id": "eastern-magic",
   "metadata": {},
   "outputs": [],
   "source": [
    "import os\n",
    "import sys\n",
    "import hashlib\n",
    "import re"
   ]
  },
  {
   "cell_type": "markdown",
   "id": "headed-distinction",
   "metadata": {},
   "source": [
    "### Exercice 1"
   ]
  },
  {
   "cell_type": "markdown",
   "id": "tender-connectivity",
   "metadata": {},
   "source": [
    "#### 1)"
   ]
  },
  {
   "cell_type": "code",
   "execution_count": 53,
   "id": "productive-bottom",
   "metadata": {},
   "outputs": [],
   "source": [
    "def file_list(directory):\n",
    "    lst =[]\n",
    "    for (root,directories,files) in os.walk(directory):\n",
    "        for name in files:\n",
    "            lst.append(name)\n",
    "    return \"\\n\".join(lst)"
   ]
  },
  {
   "cell_type": "code",
   "execution_count": 54,
   "id": "breathing-introduction",
   "metadata": {},
   "outputs": [
    {
     "name": "stdout",
     "output_type": "stream",
     "text": [
      "Makefile\n",
      "mongo.tgz\n",
      "LICENSE-Community.txt\n",
      "THIRD-PARTY-NOTICES\n",
      "README\n",
      "MPL-2\n",
      "mongod\n",
      "install_compass\n",
      "mongos\n",
      "clients.sql\n",
      "script.sql\n",
      "client_script.sql\n",
      "clients_fill.sql\n",
      "Makefile\n",
      "clients_data.csv\n",
      "TP2-query-eval.pdf\n",
      "division.sql\n",
      "magasin-gros.sql\n",
      "sous-requete-exemple.sql\n"
     ]
    }
   ],
   "source": [
    "print(file_list(\"../../../BDD\"))"
   ]
  },
  {
   "cell_type": "markdown",
   "id": "linear-watershed",
   "metadata": {},
   "source": [
    "#### 2)"
   ]
  },
  {
   "cell_type": "code",
   "execution_count": 69,
   "id": "every-winning",
   "metadata": {},
   "outputs": [],
   "source": [
    "def types(directory):\n",
    "    countfile,countdirectories=0,0\n",
    "    for(root, directories, files) in os.walk(directory):\n",
    "        for name in files:\n",
    "            countfile+=1\n",
    "        for name in directories:\n",
    "            countdirectories+=1\n",
    "    return \"Files in the folder:\\n\" + str(countfile) + \"\\nDirectories in the folder :\\n\" + str(countdirectories)\n",
    "    "
   ]
  },
  {
   "cell_type": "code",
   "execution_count": 70,
   "id": "consolidated-senegal",
   "metadata": {},
   "outputs": [
    {
     "name": "stdout",
     "output_type": "stream",
     "text": [
      "Files in the folder:\n",
      "19\n",
      "Directories in the folder :\n",
      "5\n"
     ]
    }
   ],
   "source": [
    "print(count_files_n_folders(\"../../../BDD\"))"
   ]
  },
  {
   "cell_type": "markdown",
   "id": "finnish-painting",
   "metadata": {},
   "source": [
    "### 3)"
   ]
  },
  {
   "cell_type": "code",
   "execution_count": 80,
   "id": "forced-burke",
   "metadata": {},
   "outputs": [],
   "source": [
    "def types_with_link(directory):\n",
    "    countfile,countdirectories,countlink=0,0,0\n",
    "    for(root, directories, files) in os.walk(directory):\n",
    "        for name in files:\n",
    "            if os.path.islink(name):\n",
    "                countlink+=1\n",
    "            else:\n",
    "                countfile+=1\n",
    "        for name in directories:\n",
    "            if os.path.islink(name):\n",
    "                countlink+=1\n",
    "            else:\n",
    "                countdirectories+=1\n",
    "    return \"Files in the folder:\\n\" +str(countfile) + \"\\nDirectories in the folder : \\n\"+str(countdirectories)+\"\\nLink in the folder :\\n\"+str(countlink)"
   ]
  },
  {
   "cell_type": "code",
   "execution_count": 81,
   "id": "burning-boutique",
   "metadata": {},
   "outputs": [
    {
     "name": "stdout",
     "output_type": "stream",
     "text": [
      "Files in the folder:\n",
      "19\n",
      "Directories in the folder : \n",
      "5\n",
      "Link in the folder :\n",
      "0\n"
     ]
    }
   ],
   "source": [
    "print(types_with_link(\"../../../BDD\"))"
   ]
  },
  {
   "cell_type": "code",
   "execution_count": 82,
   "id": "competent-bundle",
   "metadata": {},
   "outputs": [],
   "source": [
    "def properties(directory):\n",
    "    fpublic, fprivate, dpublic, dprivate =0,0,0,0\n",
    "    for(root, directories, files) in os.walk(directory):\n",
    "        for name in files:\n",
    "            if(os.lstat(directory)).st_mode%64==0:\n",
    "                fprivate+=1\n",
    "            else:\n",
    "                fpublic +=1\n",
    "        for name in directories:\n",
    "            if(os.lstat(directory)).st_mode%64==0:\n",
    "                dprivate+=1\n",
    "            else:\n",
    "                dpublic +=1\n",
    "    return \"Public files :\\n\" +str(fpublic) +\"\\nPrivate files :\\n\"+str(fprivate)+\"\\nPublic directories :\\n\"  + str(dpublic)+\"\\nPrivate directories : \\n\"+str(dprivate)"
   ]
  },
  {
   "cell_type": "code",
   "execution_count": 83,
   "id": "searching-cambodia",
   "metadata": {},
   "outputs": [
    {
     "name": "stdout",
     "output_type": "stream",
     "text": [
      "Public files :\n",
      "19\n",
      "Private files :\n",
      "0\n",
      "Public directories :\n",
      "5\n",
      "Private directories : \n",
      "0\n"
     ]
    }
   ],
   "source": [
    "print(properties(\"../../../BDD\"))"
   ]
  },
  {
   "cell_type": "markdown",
   "id": "isolated-encyclopedia",
   "metadata": {},
   "source": [
    "### Exercice 2"
   ]
  },
  {
   "cell_type": "markdown",
   "id": "ongoing-sullivan",
   "metadata": {},
   "source": [
    "Check duplicate file"
   ]
  },
  {
   "cell_type": "markdown",
   "id": "wrapped-philosophy",
   "metadata": {},
   "source": [
    "### Exercice 3"
   ]
  },
  {
   "cell_type": "code",
   "execution_count": 174,
   "id": "looking-resort",
   "metadata": {},
   "outputs": [],
   "source": [
    "def lookup(word):\n",
    "    f=open(\"dict.txt\",encoding=\"latin1\")\n",
    "    dic = f.read().split(\"\\n\")\n",
    "    reg=\"\"\n",
    "    lst,a =[],[]\n",
    "    r = '[A-Za-z]?'\n",
    "    for i in range (len(word)+1):\n",
    "        ls = list(word)\n",
    "        ls.insert(i,r)\n",
    "        lst.append(ls)\n",
    "    for x in lst:\n",
    "        a.append(\"\".join(x))\n",
    "    reg =\"|\".join(a)\n",
    "    print(reg)\n",
    "  #  for w in dic:\n",
    "  #      if(re.compile(reg).match(w)):\n",
    "  #          print(w)"
   ]
  },
  {
   "cell_type": "code",
   "execution_count": 175,
   "id": "corporate-probe",
   "metadata": {},
   "outputs": [
    {
     "name": "stdout",
     "output_type": "stream",
     "text": [
      "[A-Za-z]?ais|a[A-Za-z]?is|ai[A-Za-z]?s|ais[A-Za-z]?\n"
     ]
    }
   ],
   "source": [
    "lookup(\"ais\")"
   ]
  },
  {
   "cell_type": "code",
   "execution_count": null,
   "id": "injured-mobile",
   "metadata": {},
   "outputs": [],
   "source": []
  },
  {
   "cell_type": "code",
   "execution_count": null,
   "id": "demographic-photography",
   "metadata": {},
   "outputs": [],
   "source": []
  }
 ],
 "metadata": {
  "kernelspec": {
   "display_name": "Python 3",
   "language": "python",
   "name": "python3"
  },
  "language_info": {
   "codemirror_mode": {
    "name": "ipython",
    "version": 3
   },
   "file_extension": ".py",
   "mimetype": "text/x-python",
   "name": "python",
   "nbconvert_exporter": "python",
   "pygments_lexer": "ipython3",
   "version": "3.9.2"
  }
 },
 "nbformat": 4,
 "nbformat_minor": 5
}
