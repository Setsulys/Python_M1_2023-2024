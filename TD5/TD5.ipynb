{
 "cells": [
  {
   "cell_type": "code",
   "execution_count": 67,
   "id": "auburn-research",
   "metadata": {},
   "outputs": [],
   "source": [
    "from itertools import *\n",
    "import time"
   ]
  },
  {
   "cell_type": "markdown",
   "id": "formed-comparison",
   "metadata": {},
   "source": [
    "### Exercice 1"
   ]
  },
  {
   "cell_type": "code",
   "execution_count": 75,
   "id": "owned-tyler",
   "metadata": {},
   "outputs": [],
   "source": [
    "def queens_pbm(n):\n",
    "    nbr =0\n",
    "    for p in permutations(range(0,n)):\n",
    "        p1 ={i+p[i] for i in p}\n",
    "        p2 = {i-p[i] for i in p}\n",
    "        nbr+=1 if len(p1)==len(p2)==n else 0\n",
    "    return nbr"
   ]
  },
  {
   "cell_type": "code",
   "execution_count": 76,
   "id": "outer-activity",
   "metadata": {},
   "outputs": [
    {
     "name": "stdout",
     "output_type": "stream",
     "text": [
      "92\n"
     ]
    }
   ],
   "source": [
    "print(queens_pbm(8))"
   ]
  },
  {
   "cell_type": "code",
   "execution_count": 262,
   "id": "applicable-carrier",
   "metadata": {},
   "outputs": [
    {
     "name": "stdout",
     "output_type": "stream",
     "text": [
      "8 queens : 92\n",
      "---------- 0.05583953857421875 sec\n",
      "9 queens : 352\n",
      "---------- 0.48004698753356934 sec\n",
      "10 queens : 724\n",
      "---------- 4.933697938919067 sec\n",
      "11 queens : 2680\n",
      "---------- 56.750560998916626 sec\n",
      "12 queens : 14200\n",
      "---------- 724.3536491394043 sec\n"
     ]
    }
   ],
   "source": [
    "start_time = time.time()\n",
    "print(\"8 queens : \" + str(queens_pbm(8)))\n",
    "print(\"---------- %s sec\" % (time.time()- start_time))\n",
    "start_time = time.time()\n",
    "print(\"9 queens : \" + str(queens_pbm(9)))\n",
    "print(\"---------- %s sec\" % (time.time()- start_time))\n",
    "start_time = time.time()\n",
    "print(\"10 queens : \" + str(queens_pbm(10)))\n",
    "print(\"---------- %s sec\" % (time.time()- start_time))\n",
    "start_time = time.time()\n",
    "print(\"11 queens : \" + str(queens_pbm(11)))\n",
    "print(\"---------- %s sec\" % (time.time()- start_time))\n",
    "start_time = time.time()\n",
    "print(\"12 queens : \" + str(queens_pbm(12)))\n",
    "print(\"---------- %s sec\" % (time.time()- start_time))"
   ]
  },
  {
   "cell_type": "markdown",
   "id": "valid-burning",
   "metadata": {},
   "source": [
    "La plus grande valeur de n pour laquelle le programme répond en temps acceptable est : 11"
   ]
  },
  {
   "cell_type": "markdown",
   "id": "funky-shoulder",
   "metadata": {},
   "source": [
    "### Exercice 2"
   ]
  },
  {
   "cell_type": "code",
   "execution_count": 87,
   "id": "medium-montana",
   "metadata": {},
   "outputs": [],
   "source": [
    "def cryptarithme(string):\n",
    "    st = set()\n",
    "    for i in string:\n",
    "        if(i.isalpha()):\n",
    "            st.add(i)\n",
    "    return st"
   ]
  },
  {
   "cell_type": "code",
   "execution_count": 88,
   "id": "regulated-shirt",
   "metadata": {},
   "outputs": [
    {
     "name": "stdout",
     "output_type": "stream",
     "text": [
      "{'S', 'E', 'N', 'M', 'Y', 'D', 'R', 'O'}\n"
     ]
    }
   ],
   "source": [
    "print(cryptarithme(\"SEND + MORE = MONEY\"))"
   ]
  },
  {
   "cell_type": "markdown",
   "id": "equipped-consumption",
   "metadata": {},
   "source": [
    "### Exercice 3"
   ]
  },
  {
   "cell_type": "code",
   "execution_count": 268,
   "id": "abroad-cambridge",
   "metadata": {},
   "outputs": [],
   "source": [
    "def conway(array,n):\n",
    "    if(n <0 ):\n",
    "        raise AssertionError(\"negative value\")\n",
    "    elif(n ==0):\n",
    "        return array\n",
    "    else:\n",
    "        cpt =1\n",
    "        lst =[]\n",
    "        for i in range(len(array)):\n",
    "            if(i+1 < len(array)):\n",
    "                if(array[i+1]==array[i]):\n",
    "                    cpt+=1\n",
    "                else:\n",
    "                    lst.append(cpt)\n",
    "                    lst.append(array[i])\n",
    "                    cpt=1\n",
    "\n",
    "            else:\n",
    "                lst.append(cpt)\n",
    "                lst.append(array[i])   \n",
    "        return conway(lst,n-1)\n",
    "\n",
    "def conway_series(array,n):\n",
    "    for i in range(n):\n",
    "        print(\"\".join(str(x) for x in conway(array,i)))"
   ]
  },
  {
   "cell_type": "code",
   "execution_count": 266,
   "id": "confused-devices",
   "metadata": {},
   "outputs": [
    {
     "name": "stdout",
     "output_type": "stream",
     "text": [
      "1\n",
      "11\n",
      "21\n",
      "1211\n",
      "111221\n",
      "312211\n",
      "13112221\n",
      "1113213211\n",
      "31131211131221\n",
      "13211311123113112211\n"
     ]
    }
   ],
   "source": [
    "array = [1]\n",
    "size = 10\n",
    "conway_series(array,size)"
   ]
  },
  {
   "cell_type": "code",
   "execution_count": null,
   "id": "surface-virgin",
   "metadata": {},
   "outputs": [],
   "source": []
  },
  {
   "cell_type": "code",
   "execution_count": null,
   "id": "imperial-military",
   "metadata": {},
   "outputs": [],
   "source": []
  }
 ],
 "metadata": {
  "kernelspec": {
   "display_name": "Python 3",
   "language": "python",
   "name": "python3"
  },
  "language_info": {
   "codemirror_mode": {
    "name": "ipython",
    "version": 3
   },
   "file_extension": ".py",
   "mimetype": "text/x-python",
   "name": "python",
   "nbconvert_exporter": "python",
   "pygments_lexer": "ipython3",
   "version": "3.9.2"
  }
 },
 "nbformat": 4,
 "nbformat_minor": 5
}
