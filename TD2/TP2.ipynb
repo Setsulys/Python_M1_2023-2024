{
 "cells": [
  {
   "cell_type": "markdown",
   "id": "tribal-uncertainty",
   "metadata": {},
   "source": [
    "### Exercice 1"
   ]
  },
  {
   "cell_type": "markdown",
   "id": "forward-brighton",
   "metadata": {},
   "source": [
    "#### a)"
   ]
  },
  {
   "cell_type": "code",
   "execution_count": 2,
   "id": "optical-clone",
   "metadata": {},
   "outputs": [],
   "source": [
    "def is_palindrome(strs):\n",
    "    return strs[:-1:]==strs[:0:-1]"
   ]
  },
  {
   "cell_type": "code",
   "execution_count": 4,
   "id": "atmospheric-contact",
   "metadata": {},
   "outputs": [
    {
     "name": "stdout",
     "output_type": "stream",
     "text": [
      "True\n",
      "False\n"
     ]
    }
   ],
   "source": [
    "print(is_palindrome(\"kayak\"))\n",
    "print(is_palindrome(\"foot\"))"
   ]
  },
  {
   "cell_type": "markdown",
   "id": "ruled-merchandise",
   "metadata": {},
   "source": [
    "---\n",
    "#### b)"
   ]
  },
  {
   "cell_type": "code",
   "execution_count": 23,
   "id": "satellite-flower",
   "metadata": {},
   "outputs": [],
   "source": [
    "def is_pangram(strs):\n",
    "    return set(strs.lower())>= set([*\"abcdefghijklmnopqrstuvwxyz\"])"
   ]
  },
  {
   "cell_type": "code",
   "execution_count": 25,
   "id": "contemporary-wrapping",
   "metadata": {},
   "outputs": [
    {
     "name": "stdout",
     "output_type": "stream",
     "text": [
      "True\n",
      "True\n"
     ]
    }
   ],
   "source": [
    "print(is_pangram(\"he quick brown fox jumps over the lazy dog\"))\n",
    "print(is_pangram(\"Portez ce vieux whisky au juge blond qui fume\"))"
   ]
  },
  {
   "cell_type": "markdown",
   "id": "ruled-jesus",
   "metadata": {},
   "source": [
    "---\n",
    "#### c)"
   ]
  },
  {
   "cell_type": "code",
   "execution_count": 71,
   "id": "eastern-reflection",
   "metadata": {},
   "outputs": [],
   "source": [
    "def remove_adjacent(lst):\n",
    "    return [lst[i] for i in range (len(lst)) if i <= 1 or lst[i-1]!=lst[i]]"
   ]
  },
  {
   "cell_type": "code",
   "execution_count": 72,
   "id": "environmental-fairy",
   "metadata": {},
   "outputs": [
    {
     "name": "stdout",
     "output_type": "stream",
     "text": [
      "[1, 2, 3, 1]\n"
     ]
    }
   ],
   "source": [
    "print(remove_adjacent([1,2,2,3,3,1]))"
   ]
  },
  {
   "cell_type": "markdown",
   "id": "future-selection",
   "metadata": {},
   "source": [
    "---\n",
    "#### d)"
   ]
  },
  {
   "cell_type": "code",
   "execution_count": 73,
   "id": "israeli-richmond",
   "metadata": {},
   "outputs": [],
   "source": [
    "def digits_sum(val):\n",
    "    return sum([int(x) for x in val])"
   ]
  },
  {
   "cell_type": "code",
   "execution_count": 75,
   "id": "supreme-control",
   "metadata": {},
   "outputs": [
    {
     "name": "stdout",
     "output_type": "stream",
     "text": [
      "11\n",
      "45\n"
     ]
    }
   ],
   "source": [
    "print(digits_sum(\"5321\"))\n",
    "print(digits_sum(\"123456789\"))"
   ]
  },
  {
   "cell_type": "markdown",
   "id": "alike-weather",
   "metadata": {},
   "source": [
    "### Exercice 2"
   ]
  },
  {
   "cell_type": "code",
   "execution_count": null,
   "id": "intermediate-thanksgiving",
   "metadata": {},
   "outputs": [],
   "source": []
  }
 ],
 "metadata": {
  "kernelspec": {
   "display_name": "Python 3",
   "language": "python",
   "name": "python3"
  },
  "language_info": {
   "codemirror_mode": {
    "name": "ipython",
    "version": 3
   },
   "file_extension": ".py",
   "mimetype": "text/x-python",
   "name": "python",
   "nbconvert_exporter": "python",
   "pygments_lexer": "ipython3",
   "version": "3.9.2"
  }
 },
 "nbformat": 4,
 "nbformat_minor": 5
}
